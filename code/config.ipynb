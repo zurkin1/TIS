{
 "cells": [
  {
   "cell_type": "code",
   "execution_count": 4,
   "metadata": {},
   "outputs": [],
   "source": [
    "class Config(object):\n",
    "    \"\"\"Constants (should be the same for all model notebooks)\"\"\"\n",
    "    def __init__(self, properties_dict):\n",
    "        for k,v in properties_dict.iteritems():\n",
    "            setattr(self, k, v)\n",
    "        \n",
    "    def __str__(self):\n",
    "        self_vars = vars(self)\n",
    "        return \"Config:\\n\"+\\\n",
    "               \"\\n\".join([\"{}\\t{}\".format(k, v) for k, v in self_vars.items()])"
   ]
  },
  {
   "cell_type": "code",
   "execution_count": 6,
   "metadata": {},
   "outputs": [],
   "source": [
    "#Config({'member' : 'test_value'}).member"
   ]
  },
  {
   "cell_type": "code",
   "execution_count": null,
   "metadata": {},
   "outputs": [],
   "source": []
  }
 ],
 "metadata": {
  "kernelspec": {
   "display_name": "Python 3",
   "language": "python",
   "name": "python3"
  },
  "language_info": {
   "codemirror_mode": {
    "name": "ipython",
    "version": 3
   },
   "file_extension": ".py",
   "mimetype": "text/x-python",
   "name": "python",
   "nbconvert_exporter": "python",
   "pygments_lexer": "ipython3",
   "version": "3.7.1"
  }
 },
 "nbformat": 4,
 "nbformat_minor": 2
}
